{
 "cells": [
  {
   "cell_type": "markdown",
   "metadata": {},
   "source": [
    "To begin, let's import spaCy and the create_object script.  This includes as `create_object()` function that will generate a generic language object in the folder `new_lang/{language_name}`.  All of the object's files are contained there. "
   ]
  },
  {
   "cell_type": "code",
   "execution_count": 1,
   "metadata": {},
   "outputs": [
    {
     "data": {
      "text/plain": [
       "'3.0.6'"
      ]
     },
     "execution_count": 1,
     "metadata": {},
     "output_type": "execute_result"
    }
   ],
   "source": [
    "# Install needed util files if missing\n",
    "import spacy \n",
    "if 'google.colab' in str(get_ipython()):\n",
    "    !mkdir util\n",
    "    !wget -O /content/util/corpus.py https://raw.githubusercontent.com/New-Languages-for-NLP/cadet-the-notebook/main/util/corpus.py\n",
    "    !wget -O /content/util/create_object.py https://raw.githubusercontent.com/New-Languages-for-NLP/cadet-the-notebook/main/util/create_object.py\n",
    "    !wget -O /content/util/export.py https://raw.githubusercontent.com/New-Languages-for-NLP/cadet-the-notebook/main/util/export.py\n",
    "    !wget -O /content/util/tokenization.py https://raw.githubusercontent.com/New-Languages-for-NLP/cadet-the-notebook/main/util/tokenization.py\n",
    "    #colab currently uses spacy 2.2.4, need 3\n",
    "    if '3' not in spacy.__version__[:1]:\n",
    "        !pip install spacy --upgrade\n",
    "\n",
    "import spacy\n",
    "from util.create_object import create_object\n",
    "spacy.__version__\n",
    "\n"
   ]
  },
  {
   "cell_type": "code",
   "execution_count": 2,
   "metadata": {},
   "outputs": [],
   "source": [
    "lang_name = 'Yiddish'\n",
    "lang_code ='yi'\n",
    "direction = 'rtl'\n",
    "has_case = False\n",
    "has_letters = True\n",
    "\n",
    "# create_object(lang_name, lang_code, direction, has_case, has_letters)"
   ]
  },
  {
   "cell_type": "code",
   "execution_count": 3,
   "metadata": {},
   "outputs": [
    {
     "name": "stdout",
     "output_type": "stream",
     "text": [
      "__init__.py             \u001b[34mlookups\u001b[m\u001b[m                 tag_map.py\r\n",
      "base_config.cfg         punctuation.py          \u001b[34mtexts\u001b[m\u001b[m\r\n",
      "examples.py             setup.py                tokenizer_exceptions.py\r\n",
      "lemmatizer.py           stop_words.py           \u001b[34myi.egg-info\u001b[m\u001b[m\r\n",
      "lex_attrs.py            syntax_iterators.py\r\n"
     ]
    }
   ],
   "source": [
    "!ls ./new_lang"
   ]
  },
  {
   "cell_type": "markdown",
   "metadata": {},
   "source": [
    "To assess how the tokenizer defaults will work with your language, add example sentences to the [`examples.py`](./new_lang/examples.py) file.  "
   ]
  },
  {
   "cell_type": "code",
   "execution_count": 3,
   "metadata": {},
   "outputs": [
    {
     "ename": "ValueError",
     "evalue": "[E056] Invalid tokenizer exception: ORTH values combined don't match original string.\nKey: אויפן\nOrths: אויפדעם",
     "output_type": "error",
     "traceback": [
      "\u001b[0;31m---------------------------------------------------------------------------\u001b[0m",
      "\u001b[0;31mValueError\u001b[0m                                Traceback (most recent call last)",
      "\u001b[0;32m<ipython-input-3-abd953e604c1>\u001b[0m in \u001b[0;36m<module>\u001b[0;34m\u001b[0m\n\u001b[1;32m      1\u001b[0m \u001b[0;32mfrom\u001b[0m \u001b[0mIPython\u001b[0m\u001b[0;34m.\u001b[0m\u001b[0mcore\u001b[0m\u001b[0;34m.\u001b[0m\u001b[0mdisplay\u001b[0m \u001b[0;32mimport\u001b[0m \u001b[0mHTML\u001b[0m\u001b[0;34m\u001b[0m\u001b[0;34m\u001b[0m\u001b[0m\n\u001b[1;32m      2\u001b[0m \u001b[0;32mfrom\u001b[0m \u001b[0mutil\u001b[0m\u001b[0;34m.\u001b[0m\u001b[0mtokenization\u001b[0m \u001b[0;32mimport\u001b[0m \u001b[0mtokenization\u001b[0m\u001b[0;34m\u001b[0m\u001b[0;34m\u001b[0m\u001b[0m\n\u001b[0;32m----> 3\u001b[0;31m \u001b[0mHTML\u001b[0m\u001b[0;34m(\u001b[0m\u001b[0mtokenization\u001b[0m\u001b[0;34m(\u001b[0m\u001b[0mlang_name\u001b[0m\u001b[0;34m)\u001b[0m\u001b[0;34m)\u001b[0m\u001b[0;34m\u001b[0m\u001b[0;34m\u001b[0m\u001b[0m\n\u001b[0m",
      "\u001b[0;32m~/berkotech/PrincetonNLPYiddish/research/cadet-notebook/util/tokenization.py\u001b[0m in \u001b[0;36mtokenization\u001b[0;34m(lang_name)\u001b[0m\n\u001b[1;32m     13\u001b[0m     \u001b[0;31m# Load language object as nlp\u001b[0m\u001b[0;34m\u001b[0m\u001b[0;34m\u001b[0m\u001b[0;34m\u001b[0m\u001b[0m\n\u001b[1;32m     14\u001b[0m     \u001b[0;32mtry\u001b[0m\u001b[0;34m:\u001b[0m\u001b[0;34m\u001b[0m\u001b[0;34m\u001b[0m\u001b[0m\n\u001b[0;32m---> 15\u001b[0;31m         \u001b[0mmod\u001b[0m \u001b[0;34m=\u001b[0m \u001b[0m__import__\u001b[0m\u001b[0;34m(\u001b[0m\u001b[0;34mf\"new_lang\"\u001b[0m\u001b[0;34m,\u001b[0m \u001b[0mfromlist\u001b[0m\u001b[0;34m=\u001b[0m\u001b[0;34m[\u001b[0m\u001b[0mlang_name\u001b[0m\u001b[0;34m.\u001b[0m\u001b[0mcapitalize\u001b[0m\u001b[0;34m(\u001b[0m\u001b[0;34m)\u001b[0m\u001b[0;34m]\u001b[0m\u001b[0;34m)\u001b[0m\u001b[0;34m\u001b[0m\u001b[0;34m\u001b[0m\u001b[0m\n\u001b[0m\u001b[1;32m     16\u001b[0m     \u001b[0;32mexcept\u001b[0m \u001b[0mSyntaxError\u001b[0m\u001b[0;34m:\u001b[0m  \u001b[0;31m# Unable to load __init__ due to syntax error\u001b[0m\u001b[0;34m\u001b[0m\u001b[0;34m\u001b[0m\u001b[0m\n\u001b[1;32m     17\u001b[0m         \u001b[0;31m# redirect /edit?file_name=examples.py\u001b[0m\u001b[0;34m\u001b[0m\u001b[0;34m\u001b[0m\u001b[0;34m\u001b[0m\u001b[0m\n",
      "\u001b[0;32m~/berkotech/PrincetonNLPYiddish/research/cadet-notebook/new_lang/__init__.py\u001b[0m in \u001b[0;36m<module>\u001b[0;34m\u001b[0m\n\u001b[1;32m      5\u001b[0m \u001b[0;31m#from thinc.api import Config\u001b[0m\u001b[0;34m\u001b[0m\u001b[0;34m\u001b[0m\u001b[0;34m\u001b[0m\u001b[0m\n\u001b[1;32m      6\u001b[0m \u001b[0;32mfrom\u001b[0m \u001b[0;34m.\u001b[0m\u001b[0mstop_words\u001b[0m \u001b[0;32mimport\u001b[0m \u001b[0mSTOP_WORDS\u001b[0m\u001b[0;34m\u001b[0m\u001b[0;34m\u001b[0m\u001b[0m\n\u001b[0;32m----> 7\u001b[0;31m \u001b[0;32mfrom\u001b[0m \u001b[0;34m.\u001b[0m\u001b[0mtokenizer_exceptions\u001b[0m \u001b[0;32mimport\u001b[0m \u001b[0mTOKENIZER_EXCEPTIONS\u001b[0m\u001b[0;34m\u001b[0m\u001b[0;34m\u001b[0m\u001b[0m\n\u001b[0m\u001b[1;32m      8\u001b[0m \u001b[0;32mfrom\u001b[0m \u001b[0;34m.\u001b[0m\u001b[0mpunctuation\u001b[0m \u001b[0;32mimport\u001b[0m \u001b[0mTOKENIZER_PREFIXES\u001b[0m\u001b[0;34m,\u001b[0m \u001b[0mTOKENIZER_SUFFIXES\u001b[0m\u001b[0;34m,\u001b[0m \u001b[0mTOKENIZER_INFIXES\u001b[0m\u001b[0;34m\u001b[0m\u001b[0;34m\u001b[0m\u001b[0m\n\u001b[1;32m      9\u001b[0m \u001b[0;32mfrom\u001b[0m \u001b[0;34m.\u001b[0m\u001b[0mlex_attrs\u001b[0m \u001b[0;32mimport\u001b[0m \u001b[0mLEX_ATTRS\u001b[0m\u001b[0;34m\u001b[0m\u001b[0;34m\u001b[0m\u001b[0m\n",
      "\u001b[0;32m~/berkotech/PrincetonNLPYiddish/research/cadet-notebook/new_lang/tokenizer_exceptions.py\u001b[0m in \u001b[0;36m<module>\u001b[0;34m\u001b[0m\n\u001b[1;32m     24\u001b[0m }\n\u001b[1;32m     25\u001b[0m \u001b[0;34m\u001b[0m\u001b[0m\n\u001b[0;32m---> 26\u001b[0;31m \u001b[0mTOKENIZER_EXCEPTIONS\u001b[0m \u001b[0;34m=\u001b[0m \u001b[0mupdate_exc\u001b[0m\u001b[0;34m(\u001b[0m\u001b[0mBASE_EXCEPTIONS\u001b[0m\u001b[0;34m,\u001b[0m \u001b[0m_exc\u001b[0m\u001b[0;34m)\u001b[0m\u001b[0;34m\u001b[0m\u001b[0;34m\u001b[0m\u001b[0m\n\u001b[0m",
      "\u001b[0;32m~/opt/anaconda3/lib/python3.8/site-packages/spacy/util.py\u001b[0m in \u001b[0;36mupdate_exc\u001b[0;34m(base_exceptions, *addition_dicts)\u001b[0m\n\u001b[1;32m   1043\u001b[0m             \u001b[0mdescribed_orth\u001b[0m \u001b[0;34m=\u001b[0m \u001b[0;34m\"\"\u001b[0m\u001b[0;34m.\u001b[0m\u001b[0mjoin\u001b[0m\u001b[0;34m(\u001b[0m\u001b[0mattr\u001b[0m\u001b[0;34m[\u001b[0m\u001b[0mORTH\u001b[0m\u001b[0;34m]\u001b[0m \u001b[0;32mfor\u001b[0m \u001b[0mattr\u001b[0m \u001b[0;32min\u001b[0m \u001b[0mtoken_attrs\u001b[0m\u001b[0;34m)\u001b[0m\u001b[0;34m\u001b[0m\u001b[0;34m\u001b[0m\u001b[0m\n\u001b[1;32m   1044\u001b[0m             \u001b[0;32mif\u001b[0m \u001b[0morth\u001b[0m \u001b[0;34m!=\u001b[0m \u001b[0mdescribed_orth\u001b[0m\u001b[0;34m:\u001b[0m\u001b[0;34m\u001b[0m\u001b[0;34m\u001b[0m\u001b[0m\n\u001b[0;32m-> 1045\u001b[0;31m                 \u001b[0;32mraise\u001b[0m \u001b[0mValueError\u001b[0m\u001b[0;34m(\u001b[0m\u001b[0mErrors\u001b[0m\u001b[0;34m.\u001b[0m\u001b[0mE056\u001b[0m\u001b[0;34m.\u001b[0m\u001b[0mformat\u001b[0m\u001b[0;34m(\u001b[0m\u001b[0mkey\u001b[0m\u001b[0;34m=\u001b[0m\u001b[0morth\u001b[0m\u001b[0;34m,\u001b[0m \u001b[0morths\u001b[0m\u001b[0;34m=\u001b[0m\u001b[0mdescribed_orth\u001b[0m\u001b[0;34m)\u001b[0m\u001b[0;34m)\u001b[0m\u001b[0;34m\u001b[0m\u001b[0;34m\u001b[0m\u001b[0m\n\u001b[0m\u001b[1;32m   1046\u001b[0m         \u001b[0mexc\u001b[0m\u001b[0;34m.\u001b[0m\u001b[0mupdate\u001b[0m\u001b[0;34m(\u001b[0m\u001b[0madditions\u001b[0m\u001b[0;34m)\u001b[0m\u001b[0;34m\u001b[0m\u001b[0;34m\u001b[0m\u001b[0m\n\u001b[1;32m   1047\u001b[0m     \u001b[0mexc\u001b[0m \u001b[0;34m=\u001b[0m \u001b[0mexpand_exc\u001b[0m\u001b[0;34m(\u001b[0m\u001b[0mexc\u001b[0m\u001b[0;34m,\u001b[0m \u001b[0;34m\"'\"\u001b[0m\u001b[0;34m,\u001b[0m \u001b[0;34m\"’\"\u001b[0m\u001b[0;34m)\u001b[0m\u001b[0;34m\u001b[0m\u001b[0;34m\u001b[0m\u001b[0m\n",
      "\u001b[0;31mValueError\u001b[0m: [E056] Invalid tokenizer exception: ORTH values combined don't match original string.\nKey: אויפן\nOrths: אויפדעם"
     ]
    }
   ],
   "source": [
    "from IPython.core.display import HTML\n",
    "from util.tokenization import tokenization\n",
    "HTML(tokenization(lang_name))"
   ]
  },
  {
   "cell_type": "markdown",
   "metadata": {},
   "source": [
    "To adjust the tokenizer you can add unique exceptions or regular exceptions to the [tokenizer_exceptions.py](./new_lang/tokenizer_exceptions.py) file\n",
    "\n",
    "- To join two tokens, add an exception `{'BIG YIKES':[{ORTH: 'BIG YIKES'}]}`\n",
    "- To split a token in two, `{'Kummerspeck':[{ORTH:\"Kummer\"},{ORTH:\"speck\"}]}`\n",
    "\n",
    "Note in both cases that we add a dictionary. The key is the string to match on, with a list of tokens.  In the first case we had a single token where we would otherwise have two and vice versa. You can find more details in the spaCy documentation and [here](https://new-languages-for-nlp.github.io/course-materials/w1/tokenization.html)."
   ]
  },
  {
   "cell_type": "markdown",
   "metadata": {},
   "source": [
    "## Lookups \n",
    "\n",
    "The `create_object()` function creates a `new_lang/lookups` directory that contains three files.  These are simple json lookups for unambiguous pos, lemma and features. You can add your data to these files and automatically update token values.  Keep in mind that you'll need to find a balance between the convenience of automatically annotating tokens and the inconvenience of having to correct machine errors.  Once you're done updating the files with your existing linguistic data, proceed to the next step. "
   ]
  },
  {
   "cell_type": "markdown",
   "metadata": {},
   "source": [
    "## Texts\n",
    "\n",
    "For us to identify frequent tokens for automatic annotation, you'll need to provide texts.  Place your machine-readable utf-8 text files in the `new_lang/texts` folder.   "
   ]
  },
  {
   "cell_type": "code",
   "execution_count": 5,
   "metadata": {},
   "outputs": [
    {
     "name": "stdout",
     "output_type": "stream",
     "text": [
      "{'texts': 1, 'tokens': 3912, 'unique_tokens': 761}\n"
     ]
    }
   ],
   "source": [
    "from util.corpus import make_corpus\n",
    "\n",
    "make_corpus(lang_name)"
   ]
  },
  {
   "cell_type": "markdown",
   "metadata": {},
   "source": [
    "The output of make_corpus is a json file at [`new_lang/corpus_json/tokens.json`](./new_lang/corpus_json/tokens.json). For each token, you'll find a `text` key for the token's string as well as keys for pos_, lemma_ and ent_type_. Keep in mind that this system is not able to process ambiguous lookups.  Only enter data for tokens or spans with very little semantic variation.      "
   ]
  },
  {
   "cell_type": "code",
   "execution_count": 6,
   "metadata": {},
   "outputs": [
    {
     "name": "stdout",
     "output_type": "stream",
     "text": [
      "\n",
      "🍉 To bulk annotate 33% of the corpus, add data to first 14 tokens\n",
      "🍅 To bulk annotate 50% of the corpus, add data to first 37 tokens\n",
      "🍒 To bulk annotate 66% of the corpus, add data to first 100 tokens\n",
      "\n"
     ]
    }
   ],
   "source": [
    "import srsly\n",
    "from pathlib import Path \n",
    "\n",
    "def get_percentages():\n",
    "    thirds = []\n",
    "    halfs = []\n",
    "    two_thirds = [] \n",
    "    tokens = srsly.read_json(Path.cwd() / 'new_lang' / 'corpus_json' / 'tokens.json')\n",
    "    tokens = srsly.json_loads(tokens)\n",
    "    for token in tokens:\n",
    "        if token['rank'] == 1:\n",
    "            total_tokens = token['count'] + token['remain']\n",
    "        \n",
    "        percent_annotated = 1 - (token['remain'] / total_tokens)\n",
    "        percent_annotated = int((percent_annotated * 100))\n",
    "        if percent_annotated == 33:\n",
    "            thirds.append(token)\n",
    "        if percent_annotated == 50:\n",
    "            halfs.append(token)\n",
    "        if percent_annotated == 66:\n",
    "            two_thirds.append(token)\n",
    "    return thirds[0], halfs[0], two_thirds[0]\n",
    "        \n",
    "    #let percent_annotated = 1 - (token.remain / total_tokens);\n",
    "#    let percent_annotated_str = (percent_annotated*100).toFixed(0);\n",
    "third, half, two_thirds = get_percentages()\n",
    "print(f\"\"\"\n",
    "🍉 To bulk annotate 33% of the corpus, add data to first {third['rank']} tokens\n",
    "🍅 To bulk annotate 50% of the corpus, add data to first {half['rank']} tokens\n",
    "🍒 To bulk annotate 66% of the corpus, add data to first {two_thirds['rank']} tokens\n",
    "\"\"\")"
   ]
  },
  {
   "cell_type": "markdown",
   "metadata": {},
   "source": [
    "Next we will export your texts and lookups in a TSV file in the CoreNLP format.  This data can then be loaded into INCEpTION for annotation work "
   ]
  },
  {
   "cell_type": "code",
   "execution_count": 7,
   "metadata": {},
   "outputs": [
    {
     "data": {
      "text/plain": [
       "'saved data to file /tmp/conllu_export.zip'"
      ]
     },
     "execution_count": 7,
     "metadata": {},
     "output_type": "execute_result"
    }
   ],
   "source": [
    "from util.export import download\n",
    "\n",
    "download(lang_name)\n"
   ]
  },
  {
   "cell_type": "markdown",
   "metadata": {},
   "source": [
    "When you have completed all annotation work in INCEpTION, you're ready to begin model training. This final step will export your spaCy language object. From there you can follow the spaCy documentation on model training!  \n",
    "\n",
    "1. package the object into a usable folder, that can be moved, and initialized using projects\n",
    "2. nlp.to_disk(\"/tmp/checkpoint\")?\n"
   ]
  },
  {
   "cell_type": "code",
   "execution_count": 8,
   "metadata": {},
   "outputs": [],
   "source": [
    "# Create a spaCy project file for your project.  \n",
    "from util.project import make_project\n"
   ]
  },
  {
   "cell_type": "code",
   "execution_count": 9,
   "metadata": {},
   "outputs": [
    {
     "name": "stdout",
     "output_type": "stream",
     "text": [
      "created file /home/ajanco/projects/cadet-the-notebook/Meow.zip\n"
     ]
    }
   ],
   "source": [
    "import shutil\n",
    "from util.project import make_project\n",
    "\n",
    "new_lang = Path.cwd() / \"new_lang\"\n",
    "make_project(lang_name,lang_code)\n",
    "\n",
    "#make export directory \n",
    "export_path = Path.cwd() / lang_name\n",
    "\n",
    "\n",
    "#shutil.make_archive(\"zipped_sample_directory\", \"zip\", \"sample_directory\")\n",
    "shutil.make_archive(str(export_path), 'zip', str(new_lang))\n",
    "zip_file = Path.cwd() / (lang_name + '.zip')\n",
    "print(f'created file {zip_file}')"
   ]
  }
 ],
 "metadata": {
  "kernelspec": {
   "display_name": "Python 3",
   "language": "python",
   "name": "python3"
  },
  "language_info": {
   "codemirror_mode": {
    "name": "ipython",
    "version": 3
   },
   "file_extension": ".py",
   "mimetype": "text/x-python",
   "name": "python",
   "nbconvert_exporter": "python",
   "pygments_lexer": "ipython3",
   "version": "3.8.8"
  }
 },
 "nbformat": 4,
 "nbformat_minor": 2
}
